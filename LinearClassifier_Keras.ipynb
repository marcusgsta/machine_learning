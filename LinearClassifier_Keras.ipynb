{
 "cells": [
  {
   "cell_type": "code",
   "execution_count": 28,
   "metadata": {},
   "outputs": [
    {
     "data": {
      "text/plain": [
       "array([0., 0., 0., 0., 0., 1., 0., 0., 0., 0.], dtype=float32)"
      ]
     },
     "execution_count": 28,
     "metadata": {},
     "output_type": "execute_result"
    }
   ],
   "source": [
    "from tensorflow.keras.datasets import mnist\n",
    "#import matplotlib.pyplot as plt\n",
    "(x_train, y_train), (x_test, y_test) = mnist.load_data()\n",
    "\n",
    "#reshape data to fit model\n",
    "# nr of images, shape, 1 = greyscale\n",
    "x_train = x_train.reshape(60000,28,28,1)\n",
    "x_test = x_test.reshape(10000,28,28,1)\n",
    "\n",
    "from tensorflow.keras.utils import to_categorical\n",
    "# one-hot encode target column:\n",
    "# a column will be created for each output category\n",
    "# and a binary variable is inputted for each category\n",
    "y_train = to_categorical(y_train)\n",
    "y_test = to_categorical(y_test)\n",
    "y_train[0]\n",
    "\n"
   ]
  },
  {
   "cell_type": "code",
   "execution_count": 29,
   "metadata": {
    "scrolled": true
   },
   "outputs": [
    {
     "name": "stdout",
     "output_type": "stream",
     "text": [
      "Train on 60000 samples, validate on 10000 samples\n",
      "Epoch 1/15\n",
      "60000/60000 [==============================] - 9s 142us/step - loss: 6.6078 - acc: 0.5852 - val_loss: 5.7701 - val_acc: 0.6389\n",
      "Epoch 2/15\n",
      "60000/60000 [==============================] - 8s 126us/step - loss: 5.6875 - acc: 0.6447 - val_loss: 5.4776 - val_acc: 0.6581\n",
      "Epoch 3/15\n",
      "60000/60000 [==============================] - 8s 128us/step - loss: 5.6944 - acc: 0.6450 - val_loss: 5.7206 - val_acc: 0.6431\n",
      "Epoch 4/15\n",
      "60000/60000 [==============================] - 8s 130us/step - loss: 5.5965 - acc: 0.6510 - val_loss: 5.4480 - val_acc: 0.6609\n",
      "Epoch 5/15\n",
      "60000/60000 [==============================] - 7s 123us/step - loss: 5.5632 - acc: 0.6534 - val_loss: 5.4244 - val_acc: 0.6625\n",
      "Epoch 6/15\n",
      "60000/60000 [==============================] - 8s 127us/step - loss: 5.5391 - acc: 0.6551 - val_loss: 5.7163 - val_acc: 0.6435\n",
      "Epoch 7/15\n",
      "60000/60000 [==============================] - 8s 135us/step - loss: 5.5237 - acc: 0.6561 - val_loss: 5.3378 - val_acc: 0.6683\n",
      "Epoch 8/15\n",
      "60000/60000 [==============================] - 9s 145us/step - loss: 5.5026 - acc: 0.6577 - val_loss: 5.4488 - val_acc: 0.6604\n",
      "Epoch 9/15\n",
      "60000/60000 [==============================] - 9s 148us/step - loss: 5.4820 - acc: 0.6589 - val_loss: 5.3533 - val_acc: 0.6673\n",
      "Epoch 10/15\n",
      "60000/60000 [==============================] - 8s 135us/step - loss: 5.5224 - acc: 0.6566 - val_loss: 5.3551 - val_acc: 0.6670\n",
      "Epoch 11/15\n",
      "60000/60000 [==============================] - 7s 115us/step - loss: 5.4877 - acc: 0.6586 - val_loss: 5.3294 - val_acc: 0.6689\n",
      "Epoch 12/15\n",
      "60000/60000 [==============================] - 7s 111us/step - loss: 5.4475 - acc: 0.6610 - val_loss: 5.2762 - val_acc: 0.6718\n",
      "Epoch 13/15\n",
      "60000/60000 [==============================] - 7s 117us/step - loss: 5.4053 - acc: 0.6641 - val_loss: 5.3591 - val_acc: 0.6670\n",
      "Epoch 14/15\n",
      "60000/60000 [==============================] - 8s 138us/step - loss: 5.4291 - acc: 0.6625 - val_loss: 5.3913 - val_acc: 0.6647\n",
      "Epoch 15/15\n",
      "60000/60000 [==============================] - 9s 151us/step - loss: 5.4601 - acc: 0.6606 - val_loss: 5.3338 - val_acc: 0.6686\n",
      "CPU times: user 3min 56s, sys: 22.1 s, total: 4min 18s\n",
      "Wall time: 1min 58s\n"
     ]
    },
    {
     "data": {
      "text/plain": [
       "<tensorflow.python.keras.callbacks.History at 0xb414c4d68>"
      ]
     },
     "execution_count": 29,
     "metadata": {},
     "output_type": "execute_result"
    }
   ],
   "source": [
    "from tensorflow.keras.models import Sequential\n",
    "from tensorflow.keras.layers import Dense, Flatten\n",
    "\n",
    "model = Sequential()\n",
    "\n",
    "model.add(Flatten())\n",
    "model.add(Dense(10, input_dim=784, activation='softmax'))\n",
    "\n",
    "model.compile(loss='categorical_crossentropy',\n",
    "             optimizer='adam',\n",
    "             metrics=['accuracy'])\n",
    "\n",
    "%time model.fit(x_train, y_train, validation_data=(x_test, y_test), epochs=15)\n",
    "\n"
   ]
  },
  {
   "cell_type": "code",
   "execution_count": 31,
   "metadata": {},
   "outputs": [
    {
     "name": "stdout",
     "output_type": "stream",
     "text": [
      "CPU times: user 185 ms, sys: 7.52 ms, total: 193 ms\n",
      "Wall time: 198 ms\n"
     ]
    },
    {
     "data": {
      "text/plain": [
       "array([[0., 0., 0., 0., 0., 0., 0., 0., 0., 1.],\n",
       "       [0., 0., 1., 0., 0., 0., 0., 0., 0., 0.],\n",
       "       [0., 1., 0., 0., 0., 0., 0., 0., 0., 0.],\n",
       "       [1., 0., 0., 0., 0., 0., 0., 0., 0., 0.]], dtype=float32)"
      ]
     },
     "execution_count": 31,
     "metadata": {},
     "output_type": "execute_result"
    }
   ],
   "source": [
    "# Predict first 4 images in the test set\n",
    "%time model.predict(x_test[:4])"
   ]
  },
  {
   "cell_type": "code",
   "execution_count": 32,
   "metadata": {},
   "outputs": [
    {
     "name": "stdout",
     "output_type": "stream",
     "text": [
      "CPU times: user 12 µs, sys: 2 µs, total: 14 µs\n",
      "Wall time: 21.9 µs\n"
     ]
    },
    {
     "data": {
      "text/plain": [
       "array([[0., 0., 0., 0., 0., 0., 0., 1., 0., 0.],\n",
       "       [0., 0., 1., 0., 0., 0., 0., 0., 0., 0.],\n",
       "       [0., 1., 0., 0., 0., 0., 0., 0., 0., 0.],\n",
       "       [1., 0., 0., 0., 0., 0., 0., 0., 0., 0.]], dtype=float32)"
      ]
     },
     "execution_count": 32,
     "metadata": {},
     "output_type": "execute_result"
    }
   ],
   "source": [
    "# Compare with actual results\n",
    "%time y_test[:4]"
   ]
  }
 ],
 "metadata": {
  "kernelspec": {
   "display_name": "Python (myenv)",
   "language": "python",
   "name": "myenv"
  },
  "language_info": {
   "codemirror_mode": {
    "name": "ipython",
    "version": 3
   },
   "file_extension": ".py",
   "mimetype": "text/x-python",
   "name": "python",
   "nbconvert_exporter": "python",
   "pygments_lexer": "ipython3",
   "version": "3.6.8"
  }
 },
 "nbformat": 4,
 "nbformat_minor": 2
}
