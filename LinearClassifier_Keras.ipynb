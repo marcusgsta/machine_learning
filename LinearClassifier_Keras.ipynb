{
 "cells": [
  {
   "cell_type": "code",
   "execution_count": 27,
   "metadata": {},
   "outputs": [
    {
     "data": {
      "text/plain": [
       "array([0., 0., 0., 0., 0., 1., 0., 0., 0., 0.], dtype=float32)"
      ]
     },
     "execution_count": 27,
     "metadata": {},
     "output_type": "execute_result"
    }
   ],
   "source": [
    "from tensorflow.keras.datasets import mnist\n",
    "\n",
    "\n",
    "#import matplotlib.pyplot as plt\n",
    "(X_train_raw, y_train_raw), (X_test_raw, y_test_raw) = mnist.load_data()\n",
    "\n",
    "# Preprocess input data\n",
    "X_train = X_train_raw.reshape(X_train_raw.shape[0], 784)\n",
    "X_test = X_test_raw.reshape(X_test_raw.shape[0], 784)\n",
    "\n",
    "X_train = X_train.astype('float32')\n",
    "X_test = X_test.astype('float32')\n",
    "# Normalize values to 0...1\n",
    "X_train /= 255\n",
    "X_test /= 255\n",
    "\n",
    "from tensorflow.keras.utils import to_categorical\n",
    "# Preprocess class labels\n",
    "# Convert labels to 10-dimensional one-hot vectors\n",
    "Y_train = to_categorical(y_train_raw, 10)\n",
    "Y_test = to_categorical(y_test_raw, 10)\n",
    "\n",
    "#reshape data to fit model\n",
    "# nr of images, shape, 1 = greyscale\n",
    "#x_train = x_train.reshape(60000,28,28,1)\n",
    "#x_test = x_test.reshape(10000,28,28,1)\n",
    "\n",
    "\n",
    "# one-hot encode target column:\n",
    "# a column will be created for each output category\n",
    "# and a binary variable is inputted for each category\n",
    "#y_train = to_categorical(y_train)\n",
    "#y_test = to_categorical(y_test)\n",
    "Y_train[0]\n",
    "\n"
   ]
  },
  {
   "cell_type": "code",
   "execution_count": 21,
   "metadata": {
    "scrolled": true
   },
   "outputs": [
    {
     "name": "stdout",
     "output_type": "stream",
     "text": [
      "Epoch 1/15\n",
      "60000/60000 [==============================] - 3s 57us/step - loss: 0.6320 - acc: 0.8414\n",
      "Epoch 2/15\n",
      "60000/60000 [==============================] - 2s 38us/step - loss: 0.3473 - acc: 0.9061\n",
      "Epoch 3/15\n",
      "60000/60000 [==============================] - 2s 38us/step - loss: 0.3101 - acc: 0.9139\n",
      "Epoch 4/15\n",
      "60000/60000 [==============================] - 3s 45us/step - loss: 0.2930 - acc: 0.9185\n",
      "Epoch 5/15\n",
      "60000/60000 [==============================] - 3s 43us/step - loss: 0.2822 - acc: 0.9209\n",
      "Epoch 6/15\n",
      "60000/60000 [==============================] - 3s 42us/step - loss: 0.2751 - acc: 0.9235\n",
      "Epoch 7/15\n",
      "60000/60000 [==============================] - 2s 39us/step - loss: 0.2701 - acc: 0.9249\n",
      "Epoch 8/15\n",
      "60000/60000 [==============================] - 2s 39us/step - loss: 0.2654 - acc: 0.9255\n",
      "Epoch 9/15\n",
      "60000/60000 [==============================] - 2s 40us/step - loss: 0.2620 - acc: 0.9270\n",
      "Epoch 10/15\n",
      "60000/60000 [==============================] - 2s 41us/step - loss: 0.2592 - acc: 0.9286\n",
      "Epoch 11/15\n",
      "60000/60000 [==============================] - 2s 40us/step - loss: 0.2564 - acc: 0.9290\n",
      "Epoch 12/15\n",
      "60000/60000 [==============================] - 2s 40us/step - loss: 0.2546 - acc: 0.9293\n",
      "Epoch 13/15\n",
      "60000/60000 [==============================] - 2s 40us/step - loss: 0.2530 - acc: 0.9306\n",
      "Epoch 14/15\n",
      "60000/60000 [==============================] - 3s 49us/step - loss: 0.2512 - acc: 0.9306\n",
      "Epoch 15/15\n",
      "60000/60000 [==============================] - 3s 43us/step - loss: 0.2497 - acc: 0.9310\n",
      "CPU times: user 1min 9s, sys: 5.28 s, total: 1min 14s\n",
      "Wall time: 38.4 s\n"
     ]
    },
    {
     "data": {
      "text/plain": [
       "<tensorflow.python.keras.callbacks.History at 0xb52197da0>"
      ]
     },
     "execution_count": 21,
     "metadata": {},
     "output_type": "execute_result"
    }
   ],
   "source": [
    "from tensorflow.keras.models import Sequential\n",
    "from tensorflow.keras.layers import Dense, Flatten\n",
    "\n",
    "model = Sequential()\n",
    "\n",
    "#model.add(Flatten())\n",
    "model.add(Dense(10, input_dim=784, activation='softmax'))\n",
    "\n",
    "model.compile(loss='categorical_crossentropy',\n",
    "             optimizer='adam',\n",
    "             metrics=['accuracy'])\n",
    "\n",
    "%time model.fit(X_train, Y_train, batch_size=100, verbose=1, epochs=15)\n",
    "\n"
   ]
  },
  {
   "cell_type": "code",
   "execution_count": 26,
   "metadata": {},
   "outputs": [
    {
     "name": "stdout",
     "output_type": "stream",
     "text": [
      "0.9249\n",
      "CPU times: user 79.5 ms, sys: 2.28 ms, total: 81.8 ms\n",
      "Wall time: 81.7 ms\n"
     ]
    },
    {
     "data": {
      "text/plain": [
       "array([[1.6520698e-06, 1.5670380e-11, 7.3565052e-06, 6.7208037e-03,\n",
       "        4.2414584e-07, 3.0470384e-05, 1.2516825e-10, 9.9284524e-01,\n",
       "        1.8394132e-05, 3.7563519e-04],\n",
       "       [1.9708593e-04, 3.8827457e-06, 9.8982596e-01, 1.9098507e-04,\n",
       "        2.0536161e-14, 2.9519349e-03, 6.7752562e-03, 1.9253825e-17,\n",
       "        5.4875542e-05, 6.1140790e-14],\n",
       "       [1.1814665e-06, 9.8071623e-01, 1.1002055e-02, 2.6526919e-03,\n",
       "        1.1194064e-04, 6.2253833e-04, 1.0633752e-03, 5.9646560e-04,\n",
       "        2.9910810e-03, 2.4252223e-04],\n",
       "       [9.9970019e-01, 3.6210288e-11, 6.8802343e-05, 5.6790091e-06,\n",
       "        4.9063566e-08, 5.7560952e-05, 1.3034357e-04, 9.6827689e-06,\n",
       "        1.0516442e-05, 1.7250657e-05]], dtype=float32)"
      ]
     },
     "execution_count": 26,
     "metadata": {},
     "output_type": "execute_result"
    }
   ],
   "source": [
    "score = model.evaluate(X_test, Y_test, verbose=0)\n",
    "acc = score[1]\n",
    "print(acc)\n",
    "# Predict first 4 images in the test set\n",
    "%time model.predict(X_test[:4])"
   ]
  },
  {
   "cell_type": "code",
   "execution_count": 24,
   "metadata": {},
   "outputs": [
    {
     "name": "stdout",
     "output_type": "stream",
     "text": [
      "CPU times: user 9 µs, sys: 1 µs, total: 10 µs\n",
      "Wall time: 16 µs\n"
     ]
    },
    {
     "data": {
      "text/plain": [
       "array([7, 2, 1, 0], dtype=uint8)"
      ]
     },
     "execution_count": 24,
     "metadata": {},
     "output_type": "execute_result"
    }
   ],
   "source": [
    "# Compare with actual results\n",
    "%time y_test[:4]"
   ]
  }
 ],
 "metadata": {
  "kernelspec": {
   "display_name": "Python (myenv)",
   "language": "python",
   "name": "myenv"
  },
  "language_info": {
   "codemirror_mode": {
    "name": "ipython",
    "version": 3
   },
   "file_extension": ".py",
   "mimetype": "text/x-python",
   "name": "python",
   "nbconvert_exporter": "python",
   "pygments_lexer": "ipython3",
   "version": "3.6.8"
  }
 },
 "nbformat": 4,
 "nbformat_minor": 2
}
