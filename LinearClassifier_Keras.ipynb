{
 "cells": [
  {
   "cell_type": "code",
   "execution_count": 23,
   "metadata": {},
   "outputs": [
    {
     "data": {
      "text/plain": [
       "array([0., 0., 0., 0., 0., 1., 0., 0., 0., 0.], dtype=float32)"
      ]
     },
     "execution_count": 23,
     "metadata": {},
     "output_type": "execute_result"
    }
   ],
   "source": [
    "from tensorflow.keras.datasets import mnist\n",
    "#import matplotlib.pyplot as plt\n",
    "(x_train, y_train), (x_test, y_test) = mnist.load_data()\n",
    "\n",
    "# plot the first image in the dataset\n",
    "#plt.imshow(X_train[0])\n",
    "\n",
    "#reshape data to fit model\n",
    "# nr of images, shape, 1 = greyscale\n",
    "x_train = x_train.reshape(60000,28,28,1)\n",
    "x_test = x_test.reshape(10000,28,28,1)\n",
    "\n",
    "from tensorflow.keras.utils import to_categorical\n",
    "# one-hot encode target column:\n",
    "# a column will be created for each output category\n",
    "# and a binary variable is inputted for each category\n",
    "y_train = to_categorical(y_train)\n",
    "y_test = to_categorical(y_test)\n",
    "y_train[0]\n",
    "\n"
   ]
  },
  {
   "cell_type": "code",
   "execution_count": null,
   "metadata": {},
   "outputs": [
    {
     "name": "stdout",
     "output_type": "stream",
     "text": [
      "Train on 60000 samples, validate on 10000 samples\n",
      "Epoch 1/15\n",
      "60000/60000 [==============================] - 10s 159us/step - loss: 7.1042 - acc: 0.5535 - val_loss: 6.4391 - val_acc: 0.5966\n",
      "Epoch 2/15\n",
      "60000/60000 [==============================] - 7s 123us/step - loss: 6.1845 - acc: 0.6131 - val_loss: 6.0716 - val_acc: 0.6208\n",
      "Epoch 3/15\n",
      "60000/60000 [==============================] - 8s 129us/step - loss: 5.1225 - acc: 0.6790 - val_loss: 4.9681 - val_acc: 0.6878\n",
      "Epoch 4/15\n",
      "60000/60000 [==============================] - 8s 130us/step - loss: 4.7617 - acc: 0.7020 - val_loss: 4.7194 - val_acc: 0.7045\n",
      "Epoch 5/15\n",
      "60000/60000 [==============================] - 8s 134us/step - loss: 4.8034 - acc: 0.6998 - val_loss: 4.7476 - val_acc: 0.7036\n",
      "Epoch 6/15\n",
      "60000/60000 [==============================] - 8s 133us/step - loss: 4.7404 - acc: 0.7037 - val_loss: 4.5894 - val_acc: 0.7134\n",
      "Epoch 7/15\n",
      "60000/60000 [==============================] - 8s 136us/step - loss: 4.6676 - acc: 0.7087 - val_loss: 4.7823 - val_acc: 0.7012\n",
      "Epoch 8/15\n",
      "60000/60000 [==============================] - 9s 142us/step - loss: 4.6859 - acc: 0.7075 - val_loss: 4.5605 - val_acc: 0.7152\n",
      "Epoch 9/15\n",
      "60000/60000 [==============================] - 8s 127us/step - loss: 4.7150 - acc: 0.7055 - val_loss: 4.9122 - val_acc: 0.6934\n",
      "Epoch 10/15\n",
      "60000/60000 [==============================] - 8s 134us/step - loss: 4.6380 - acc: 0.7108 - val_loss: 4.5661 - val_acc: 0.7156\n",
      "Epoch 11/15\n",
      "60000/60000 [==============================] - 8s 127us/step - loss: 4.6662 - acc: 0.7093 - val_loss: 4.5438 - val_acc: 0.7172\n",
      "Epoch 12/15\n",
      "38592/60000 [==================>...........] - ETA: 2s - loss: 4.6415 - acc: 0.7108"
     ]
    }
   ],
   "source": [
    "from tensorflow.keras.models import Sequential\n",
    "from tensorflow.keras.layers import Dense, Flatten\n",
    "\n",
    "model = Sequential()\n",
    "\n",
    "model.add(Flatten())\n",
    "model.add(Dense(10, input_dim=784, activation='softmax'))\n",
    "\n",
    "model.compile(loss='categorical_crossentropy',\n",
    "             optimizer='adam',\n",
    "             metrics=['accuracy'])\n",
    "\n",
    "#%time model.fit(x_train, y_train, epochs=20, batch_size=128)\n",
    "%time model.fit(x_train, y_train, validation_data=(x_test, y_test), epochs=15)"
   ]
  }
 ],
 "metadata": {
  "kernelspec": {
   "display_name": "Python (myenv)",
   "language": "python",
   "name": "myenv"
  },
  "language_info": {
   "codemirror_mode": {
    "name": "ipython",
    "version": 3
   },
   "file_extension": ".py",
   "mimetype": "text/x-python",
   "name": "python",
   "nbconvert_exporter": "python",
   "pygments_lexer": "ipython3",
   "version": "3.6.8"
  }
 },
 "nbformat": 4,
 "nbformat_minor": 2
}
