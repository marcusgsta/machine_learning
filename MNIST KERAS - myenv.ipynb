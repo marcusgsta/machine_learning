{
 "cells": [
  {
   "cell_type": "code",
   "execution_count": 5,
   "metadata": {},
   "outputs": [
    {
     "data": {
      "text/plain": [
       "(28, 28)"
      ]
     },
     "execution_count": 5,
     "metadata": {},
     "output_type": "execute_result"
    }
   ],
   "source": [
    "#import matplotlib.pyplot as plt\n",
    "#%matplotlib inline\n",
    "\n",
    "from tensorflow.keras.datasets import mnist\n",
    "\n",
    "(X_train, y_train), (X_test, y_test) = mnist.load_data()\n",
    "\n",
    "# plot the first image in the dataset\n",
    "#plt.imshow(X_train[0])\n",
    "#check image shape\n",
    "X_train[0].shape"
   ]
  },
  {
   "cell_type": "code",
   "execution_count": 7,
   "metadata": {},
   "outputs": [
    {
     "data": {
      "text/plain": [
       "array([0., 0., 0., 0., 0., 1., 0., 0., 0., 0.], dtype=float32)"
      ]
     },
     "execution_count": 7,
     "metadata": {},
     "output_type": "execute_result"
    }
   ],
   "source": [
    "#reshape data to fit model\n",
    "# nr of images, shape, 1 = greyscale\n",
    "X_train = X_train.reshape(60000,28,28,1)\n",
    "X_test = X_test.reshape(10000,28,28,1)\n",
    "\n",
    "from tensorflow.keras.utils import to_categorical\n",
    "# one-hot encode target column:\n",
    "# a column will be created for each output category\n",
    "# and a binary variable is inputted for each category\n",
    "y_train = to_categorical(y_train)\n",
    "y_test = to_categorical(y_test)\n",
    "y_train[0]"
   ]
  },
  {
   "cell_type": "code",
   "execution_count": 9,
   "metadata": {},
   "outputs": [],
   "source": [
    "from tensorflow.keras.models import Sequential\n",
    "from tensorflow.keras.layers import Dense, Conv2D, Flatten, MaxPooling2D, Dropout\n",
    "\n",
    "# create model Sequential - it allows us to build a model \n",
    "# layer by layer\n",
    "model = Sequential()\n",
    "\n",
    "# add model layers\n",
    "# 64 and 32 are the nr of nodes in each layer\n",
    "# kernel size is the size of the filter matrix for our convolution\n",
    "# 3 means 3x3\n",
    "# The first layer also takes an input shape, 28x28, greyscale\n",
    "# Each layer has an activation function\n",
    "# ReLU = Rectified Linear Activation\n",
    "#model.add(Conv2D(64, kernel_size=3, activation='relu', input_shape=(28,28,1)))\n",
    "model.add(Conv2D(32, (5,5), activation='relu', input_shape=(28,28,1)))\n",
    "model.add(MaxPooling2D(pool_size=(2,2)))\n",
    "#model.add(Conv2D(32, kernel_size=3, activation='relu'))\n",
    "model.add(Conv2D(32, (5,5), activation='relu'))\n",
    "model.add(MaxPooling2D(pool_size=(2,2)))\n",
    "# Flatten layer serves as a connection between the convolution and dense layers\n",
    "model.add(Flatten())\n",
    "# Dense is the layer type we use for out output layer\n",
    "# We will have 10 nodes in our output layer (0-9)\n",
    "# The activation is 'softmax' Softmax makes the output sum\n",
    "# up to 1 so the output can be interpreted as probabilities.\n",
    "model.add(Dense(256, activation='relu'))\n",
    "model.add(Dropout(0.3))\n",
    "model.add(Dense(10, activation='softmax'))"
   ]
  },
  {
   "cell_type": "code",
   "execution_count": 10,
   "metadata": {},
   "outputs": [],
   "source": [
    "# For compiling the model we need three parameters:\n",
    "# optimizer (controls the learning rate, loss (categorical_crossentropy is \n",
    "# the most common choice for classification) and metrics (accuracy)\n",
    "# Compile model using accuracy to measure model performance\n",
    "model.compile(optimizer='adam', loss='categorical_crossentropy', metrics=['accuracy'])"
   ]
  },
  {
   "cell_type": "code",
   "execution_count": null,
   "metadata": {},
   "outputs": [
    {
     "name": "stdout",
     "output_type": "stream",
     "text": [
      "Epoch 1/10\n",
      "60000/60000 [==============================] - 52s 860us/step - loss: 1.1754 - acc: 0.8743\n",
      "Epoch 2/10\n",
      "60000/60000 [==============================] - 49s 813us/step - loss: 0.0836 - acc: 0.9747\n",
      "Epoch 3/10\n",
      "60000/60000 [==============================] - 50s 828us/step - loss: 0.0628 - acc: 0.9805\n",
      "Epoch 4/10\n",
      "60000/60000 [==============================] - 46s 760us/step - loss: 0.0474 - acc: 0.9853\n",
      "Epoch 5/10\n",
      "60000/60000 [==============================] - 46s 764us/step - loss: 0.0406 - acc: 0.9871\n",
      "Epoch 6/10\n",
      "60000/60000 [==============================] - 46s 774us/step - loss: 0.0399 - acc: 0.9879\n",
      "Epoch 7/10\n",
      "60000/60000 [==============================] - 45s 747us/step - loss: 0.0363 - acc: 0.9888\n",
      "Epoch 8/10\n",
      "60000/60000 [==============================] - 45s 743us/step - loss: 0.0346 - acc: 0.9895\n",
      "Epoch 9/10\n",
      "60000/60000 [==============================] - 44s 730us/step - loss: 0.0355 - acc: 0.9897\n",
      "Epoch 10/10\n",
      "15900/60000 [======>.......................] - ETA: 34s - loss: 0.0282 - acc: 0.9913"
     ]
    }
   ],
   "source": [
    "# Training the model\n",
    "# nr of epochs is the nr of times the model will cycle through the data\n",
    "# The model will improve up to a certain nr of epochs\n",
    "%time model.fit(X_train, y_train, batch_size=100, epochs=10, verbose=1)\n",
    "# %time model.fit(X_train, y_train, validation_data=(X_test, y_test), epochs=10)"
   ]
  }
 ],
 "metadata": {
  "kernelspec": {
   "display_name": "Python (myenv)",
   "language": "python",
   "name": "myenv"
  },
  "language_info": {
   "codemirror_mode": {
    "name": "ipython",
    "version": 3
   },
   "file_extension": ".py",
   "mimetype": "text/x-python",
   "name": "python",
   "nbconvert_exporter": "python",
   "pygments_lexer": "ipython3",
   "version": "3.6.8"
  }
 },
 "nbformat": 4,
 "nbformat_minor": 2
}
